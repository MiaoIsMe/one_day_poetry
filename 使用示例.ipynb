{
 "cells": [
  {
   "cell_type": "code",
   "execution_count": 1,
   "id": "921eb53f",
   "metadata": {},
   "outputs": [],
   "source": [
    "from one_day_poetry import get_token,get_poetry,generate_recom"
   ]
  },
  {
   "cell_type": "code",
   "execution_count": 2,
   "id": "6c727779",
   "metadata": {},
   "outputs": [
    {
     "data": {
      "text/plain": [
       "'QGbYcp9Ydc/TVZpf3VyVks1A9HoI19vm'"
      ]
     },
     "execution_count": 2,
     "metadata": {},
     "output_type": "execute_result"
    }
   ],
   "source": [
    "poetry_token=get_token()#生成一个每日一诗句的token\n",
    "poetry_token"
   ]
  },
  {
   "cell_type": "code",
   "execution_count": 4,
   "id": "4d6c98df",
   "metadata": {},
   "outputs": [
    {
     "name": "stdout",
     "output_type": "stream",
     "text": [
      "{'status': 'success', 'data': {'id': '5b8b9572e116fb3714e6fe94', 'content': '桃花尽日随流水，洞在清溪何处边。', 'popularity': 694000, 'origin': {'title': '桃花溪', 'dynasty': '唐代', 'author': '张旭', 'content': ['隐隐飞桥隔野烟，石矶西畔问渔船。', '桃花尽日随流水，洞在清溪何处边。'], 'translate': None}, 'matchTags': ['白天', '桃花'], 'recommendedReason': '', 'cacheAt': '2023-04-30T14:41:39.494812'}, 'token': 'QGbYcp9Ydc/TVZpf3VyVks1A9HoI19vm', 'ipAddress': '58.249.112.17', 'warning': None}\n"
     ]
    },
    {
     "data": {
      "text/plain": [
       "'今日的推荐诗词是唐代诗人张旭的《桃花溪》：\\n隐隐飞桥隔野烟，石矶西畔问渔船。\\n桃花尽日随流水，洞在清溪何处边。'"
      ]
     },
     "execution_count": 4,
     "metadata": {},
     "output_type": "execute_result"
    }
   ],
   "source": [
    "poetry_recommendation=get_poetry(poetry_token)\n",
    "poetry_recommendation # 获取古诗"
   ]
  },
  {
   "cell_type": "code",
   "execution_count": 5,
   "id": "8d801af6",
   "metadata": {},
   "outputs": [
    {
     "data": {
      "text/plain": [
       "'周末愉快！今天是周日，今日的推荐诗词是唐代诗人张旭的《桃花溪》：\\n隐隐飞桥隔野烟，石矶西畔问渔船。\\n桃花尽日随流水，洞在清溪何处边。'"
      ]
     },
     "execution_count": 5,
     "metadata": {},
     "output_type": "execute_result"
    }
   ],
   "source": [
    "message=generate_recom(poetry_recommendation) #返回完整的推荐词\n",
    "message"
   ]
  },
  {
   "cell_type": "code",
   "execution_count": 6,
   "id": "03c7a6c6",
   "metadata": {},
   "outputs": [
    {
     "name": "stdout",
     "output_type": "stream",
     "text": [
      "周末愉快！今天是周日，今日的推荐诗词是唐代诗人张旭的《桃花溪》：\n",
      "隐隐飞桥隔野烟，石矶西畔问渔船。\n",
      "桃花尽日随流水，洞在清溪何处边。\n"
     ]
    }
   ],
   "source": [
    "print(message)#会根据当前的时间，选择不同的祝语"
   ]
  },
  {
   "cell_type": "code",
   "execution_count": 8,
   "id": "fd693c76",
   "metadata": {},
   "outputs": [
    {
     "name": "stdout",
     "output_type": "stream",
     "text": [
      "{'status': 'success', 'data': {'id': '5b8b9572e116fb3714e6fb34', 'content': '庄生晓梦迷蝴蝶，望帝春心托杜鹃。', 'popularity': 1090000, 'origin': {'title': '锦瑟', 'dynasty': '唐代', 'author': '李商隐', 'content': ['锦瑟无端五十弦，一弦一柱思华年。', '庄生晓梦迷蝴蝶，望帝春心托杜鹃。', '沧海月明珠有泪，蓝田日暖玉生烟。', '此情可待成追忆，只是当时已惘然。'], 'translate': ['锦瑟呀，你为何竟有五十条弦？每弦每节，都令人怀思黄金华年。', '我心如庄子，为蝴蝶晓梦而迷惘；又如望帝化杜鹃，寄托春心哀怨。', '沧海明月高照，鲛人泣泪皆成珠。蓝田红日和暖，可看到良玉生烟。', '悲欢离合之情，岂待今日来追忆，只是当年却漫不经心，早已惘然。读者尽管难以明了《锦瑟》诗的思想内容，但那可供神游的诗境，却很容易在脑子里浮现。']}, 'matchTags': ['春', '杜鹃'], 'recommendedReason': '', 'cacheAt': '2023-04-30T14:41:39.494812'}, 'token': 'QGbYcp9Ydc/TVZpf3VyVks1A9HoI19vm', 'ipAddress': '58.249.112.17', 'warning': None}\n",
      "周末愉快！今天是周日，今日的推荐诗词是唐代诗人李商隐的《锦瑟》：\n",
      "锦瑟无端五十弦，一弦一柱思华年。\n",
      "庄生晓梦迷蝴蝶，望帝春心托杜鹃。\n",
      "沧海月明珠有泪，蓝田日暖玉生烟。\n",
      "此情可待成追忆，只是当时已惘然。\n"
     ]
    }
   ],
   "source": [
    "#token只需要运行一次即可\n",
    "# 再产生一首\n",
    "poetry_recommendation=get_poetry(poetry_token)\n",
    "message=generate_recom(poetry_recommendation) #返回完整的推荐词\n",
    "print(message)"
   ]
  },
  {
   "cell_type": "code",
   "execution_count": 9,
   "id": "23ea71d3",
   "metadata": {},
   "outputs": [
    {
     "name": "stdout",
     "output_type": "stream",
     "text": [
      "周末愉快！今天是周日，今日的推荐诗词是唐代诗人李商隐的《锦瑟》：\n",
      "锦瑟无端五十弦，一弦一柱思华年。\n",
      "庄生晓梦迷蝴蝶，望帝春心托杜鹃。\n",
      "沧海月明珠有泪，蓝田日暖玉生烟。\n",
      "此情可待成追忆，只是当时已惘然。\n"
     ]
    }
   ],
   "source": [
    "print(message)"
   ]
  },
  {
   "cell_type": "code",
   "execution_count": null,
   "id": "568e48fd",
   "metadata": {},
   "outputs": [],
   "source": []
  }
 ],
 "metadata": {
  "kernelspec": {
   "display_name": "Python 3 (ipykernel)",
   "language": "python",
   "name": "python3"
  },
  "language_info": {
   "codemirror_mode": {
    "name": "ipython",
    "version": 3
   },
   "file_extension": ".py",
   "mimetype": "text/x-python",
   "name": "python",
   "nbconvert_exporter": "python",
   "pygments_lexer": "ipython3",
   "version": "3.10.9"
  }
 },
 "nbformat": 4,
 "nbformat_minor": 5
}
